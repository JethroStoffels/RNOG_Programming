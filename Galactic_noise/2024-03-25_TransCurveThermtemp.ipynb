{
 "cells": [
  {
   "cell_type": "markdown",
   "id": "a3f509cd",
   "metadata": {},
   "source": [
    "# Description:\n",
    "In this notebook the thermal noise temperature is determined from the timetraces that are used to make up the transit curves in order to have a better thermal noise temperature estimate for simulation."
   ]
  },
  {
   "cell_type": "markdown",
   "id": "569a87c1",
   "metadata": {},
   "source": [
    "# Import modules:"
   ]
  },
  {
   "cell_type": "code",
   "execution_count": 1,
   "id": "675f8f73",
   "metadata": {},
   "outputs": [],
   "source": [
    "from GalaxyFunctions import *"
   ]
  },
  {
   "cell_type": "markdown",
   "id": "09900d03",
   "metadata": {},
   "source": [
    "# Import data"
   ]
  },
  {
   "cell_type": "code",
   "execution_count": 2,
   "id": "7406c9e0-4b5f-47b8-b408-cc30484bd9de",
   "metadata": {},
   "outputs": [],
   "source": [
    "DataSample,StNr,ChNr,DataFileId=\"HC\",23,16,\"3277351-Tot\"\n",
    "FilteredEvNrs=np.load(\"JobResults/Data/St\" + str(StNr) + \"Ch\" + str(ChNr) + \"/\" + DataSample + \"FilteredEvNrs_\" + str(DataFileId) + \".npy\",allow_pickle=True)\n",
    "FilteredRuns=np.load(\"JobResults/Data/St\" + str(StNr) + \"Ch\" + str(ChNr) + \"/\" + DataSample + \"FilteredRuns_\" + str(DataFileId) + \".npy\",allow_pickle=True)\n",
    "GroupedVRMS=np.load(\"JobResults/Data/St\" + str(StNr) + \"Ch\" + str(ChNr) + \"/\" + DataSample + \"GroupedVRMS_\" + str(DataFileId) + \".npy\",allow_pickle=True)\n",
    "MidBins=np.load(\"JobResults/Data/St\" + str(StNr) + \"Ch\" + str(ChNr) + \"/\" + DataSample + \"MidBins_\" + str(DataFileId) + \".npy\",allow_pickle=True)"
   ]
  },
  {
   "cell_type": "markdown",
   "id": "8e01b2fc-dfd6-4f23-87f2-3b94dca09c3f",
   "metadata": {},
   "source": [
    "# Compute Avg Vrms"
   ]
  },
  {
   "cell_type": "markdown",
   "id": "64ee070a-5449-41e1-a3e2-be2ab77e59e5",
   "metadata": {},
   "source": [
    "According to (https://www.dxengineering.com/parts/cae-clp-5130-2n), the antenna bandwith is 105-1300 MHz."
   ]
  },
  {
   "cell_type": "code",
   "execution_count": 3,
   "id": "c132308e-4e94-41ac-9ea9-c9c47a7e294f",
   "metadata": {
    "tags": []
   },
   "outputs": [
    {
     "ename": "KeyboardInterrupt",
     "evalue": "",
     "output_type": "error",
     "traceback": [
      "\u001b[0;31m---------------------------------------------------------------------------\u001b[0m",
      "\u001b[0;31mKeyboardInterrupt\u001b[0m                         Traceback (most recent call last)",
      "\u001b[0;32m<ipython-input-3-d81ce75f5385>\u001b[0m in \u001b[0;36m<module>\u001b[0;34m\u001b[0m\n\u001b[1;32m     12\u001b[0m             \u001b[0;32mfor\u001b[0m \u001b[0mEvNr\u001b[0m \u001b[0;32min\u001b[0m \u001b[0mFilteredEvNrs\u001b[0m\u001b[0;34m[\u001b[0m\u001b[0mRunIdx\u001b[0m\u001b[0;34m]\u001b[0m\u001b[0;34m:\u001b[0m\u001b[0;34m\u001b[0m\u001b[0;34m\u001b[0m\u001b[0m\n\u001b[1;32m     13\u001b[0m                 \u001b[0mEvIdx\u001b[0m\u001b[0;34m=\u001b[0m\u001b[0mnp\u001b[0m\u001b[0;34m.\u001b[0m\u001b[0mwhere\u001b[0m\u001b[0;34m(\u001b[0m\u001b[0mEventNrs\u001b[0m\u001b[0;34m==\u001b[0m\u001b[0mEvNr\u001b[0m\u001b[0;34m)\u001b[0m\u001b[0;34m[\u001b[0m\u001b[0;36m0\u001b[0m\u001b[0;34m]\u001b[0m\u001b[0;34m[\u001b[0m\u001b[0;36m0\u001b[0m\u001b[0;34m]\u001b[0m\u001b[0;34m\u001b[0m\u001b[0;34m\u001b[0m\u001b[0m\n\u001b[0;32m---> 14\u001b[0;31m                 \u001b[0mRadiantData\u001b[0m\u001b[0;34m=\u001b[0m\u001b[0mWaveFormFile\u001b[0m\u001b[0;34m[\u001b[0m\u001b[0;34m'radiant_data[24][2048]'\u001b[0m\u001b[0;34m]\u001b[0m\u001b[0;34m.\u001b[0m\u001b[0marray\u001b[0m\u001b[0;34m(\u001b[0m\u001b[0mentry_start\u001b[0m\u001b[0;34m=\u001b[0m\u001b[0mEvIdx\u001b[0m\u001b[0;34m,\u001b[0m \u001b[0mentry_stop\u001b[0m\u001b[0;34m=\u001b[0m\u001b[0mEvIdx\u001b[0m\u001b[0;34m+\u001b[0m\u001b[0;36m1\u001b[0m\u001b[0;34m,\u001b[0m\u001b[0mlibrary\u001b[0m\u001b[0;34m=\u001b[0m\u001b[0;34m'np'\u001b[0m\u001b[0;34m)\u001b[0m\u001b[0;34m\u001b[0m\u001b[0;34m\u001b[0m\u001b[0m\n\u001b[0m\u001b[1;32m     15\u001b[0m                 \u001b[0;31m#Check if the relevant timestamp is not inf or nan\u001b[0m\u001b[0;34m\u001b[0m\u001b[0;34m\u001b[0m\u001b[0;34m\u001b[0m\u001b[0m\n\u001b[1;32m     16\u001b[0m                 \u001b[0mVoltageTrace\u001b[0m\u001b[0;34m=\u001b[0m\u001b[0mADCtoVoltage\u001b[0m\u001b[0;34m(\u001b[0m\u001b[0mRadiantData\u001b[0m\u001b[0;34m[\u001b[0m\u001b[0;36m0\u001b[0m\u001b[0;34m]\u001b[0m\u001b[0;34m[\u001b[0m\u001b[0mChNr\u001b[0m\u001b[0;34m]\u001b[0m\u001b[0;34m)\u001b[0m \u001b[0;31m#Convert timetrace data from ADC to voltage (index on 0 since only one event is read in from WaveFormsFile)\u001b[0m\u001b[0;34m\u001b[0m\u001b[0;34m\u001b[0m\u001b[0m\n",
      "\u001b[0;32m/ada_mnt/ada/user/jstoffels/software/RNOG_venv/lib64/python3.6/site-packages/uproot/behaviors/TBranch.py\u001b[0m in \u001b[0;36marray\u001b[0;34m(self, interpretation, entry_start, entry_stop, decompression_executor, interpretation_executor, array_cache, library)\u001b[0m\n\u001b[1;32m   2216\u001b[0m             \u001b[0mlibrary\u001b[0m\u001b[0;34m,\u001b[0m\u001b[0;34m\u001b[0m\u001b[0;34m\u001b[0m\u001b[0m\n\u001b[1;32m   2217\u001b[0m             \u001b[0marrays\u001b[0m\u001b[0;34m,\u001b[0m\u001b[0;34m\u001b[0m\u001b[0;34m\u001b[0m\u001b[0m\n\u001b[0;32m-> 2218\u001b[0;31m             \u001b[0;32mFalse\u001b[0m\u001b[0;34m,\u001b[0m\u001b[0;34m\u001b[0m\u001b[0;34m\u001b[0m\u001b[0m\n\u001b[0m\u001b[1;32m   2219\u001b[0m         )\n\u001b[1;32m   2220\u001b[0m \u001b[0;34m\u001b[0m\u001b[0m\n",
      "\u001b[0;32m/ada_mnt/ada/user/jstoffels/software/RNOG_venv/lib64/python3.6/site-packages/uproot/behaviors/TBranch.py\u001b[0m in \u001b[0;36m_ranges_or_baskets_to_arrays\u001b[0;34m(hasbranches, ranges_or_baskets, branchid_interpretation, entry_start, entry_stop, decompression_executor, interpretation_executor, library, arrays, update_ranges_or_baskets)\u001b[0m\n\u001b[1;32m   3482\u001b[0m         \u001b[0;32mif\u001b[0m \u001b[0misinstance\u001b[0m\u001b[0;34m(\u001b[0m\u001b[0mobj\u001b[0m\u001b[0;34m,\u001b[0m \u001b[0muproot\u001b[0m\u001b[0;34m.\u001b[0m\u001b[0msource\u001b[0m\u001b[0;34m.\u001b[0m\u001b[0mchunk\u001b[0m\u001b[0;34m.\u001b[0m\u001b[0mChunk\u001b[0m\u001b[0;34m)\u001b[0m\u001b[0;34m:\u001b[0m\u001b[0;34m\u001b[0m\u001b[0;34m\u001b[0m\u001b[0m\n\u001b[1;32m   3483\u001b[0m             \u001b[0margs\u001b[0m \u001b[0;34m=\u001b[0m \u001b[0mrange_args\u001b[0m\u001b[0;34m[\u001b[0m\u001b[0;34m(\u001b[0m\u001b[0mobj\u001b[0m\u001b[0;34m.\u001b[0m\u001b[0mstart\u001b[0m\u001b[0;34m,\u001b[0m \u001b[0mobj\u001b[0m\u001b[0;34m.\u001b[0m\u001b[0mstop\u001b[0m\u001b[0;34m)\u001b[0m\u001b[0;34m]\u001b[0m\u001b[0;34m\u001b[0m\u001b[0;34m\u001b[0m\u001b[0m\n\u001b[0;32m-> 3484\u001b[0;31m             \u001b[0mdecompression_executor\u001b[0m\u001b[0;34m.\u001b[0m\u001b[0msubmit\u001b[0m\u001b[0;34m(\u001b[0m\u001b[0mchunk_to_basket\u001b[0m\u001b[0;34m,\u001b[0m \u001b[0mobj\u001b[0m\u001b[0;34m,\u001b[0m \u001b[0;34m*\u001b[0m\u001b[0margs\u001b[0m\u001b[0;34m)\u001b[0m\u001b[0;34m\u001b[0m\u001b[0;34m\u001b[0m\u001b[0m\n\u001b[0m\u001b[1;32m   3485\u001b[0m \u001b[0;34m\u001b[0m\u001b[0m\n\u001b[1;32m   3486\u001b[0m         \u001b[0;32melif\u001b[0m \u001b[0misinstance\u001b[0m\u001b[0;34m(\u001b[0m\u001b[0mobj\u001b[0m\u001b[0;34m,\u001b[0m \u001b[0muproot\u001b[0m\u001b[0;34m.\u001b[0m\u001b[0mmodels\u001b[0m\u001b[0;34m.\u001b[0m\u001b[0mTBasket\u001b[0m\u001b[0;34m.\u001b[0m\u001b[0mModel_TBasket\u001b[0m\u001b[0;34m)\u001b[0m\u001b[0;34m:\u001b[0m\u001b[0;34m\u001b[0m\u001b[0;34m\u001b[0m\u001b[0m\n",
      "\u001b[0;32m/ada_mnt/ada/user/jstoffels/software/RNOG_venv/lib64/python3.6/site-packages/uproot/source/futures.py\u001b[0m in \u001b[0;36msubmit\u001b[0;34m(self, task, *args)\u001b[0m\n\u001b[1;32m     71\u001b[0m         \u001b[0mImmediately\u001b[0m \u001b[0mruns\u001b[0m\u001b[0;31m \u001b[0m\u001b[0;31m`\u001b[0m\u001b[0;31m`\u001b[0m\u001b[0mtask\u001b[0m\u001b[0;34m(\u001b[0m\u001b[0;34m*\u001b[0m\u001b[0margs\u001b[0m\u001b[0;34m)\u001b[0m\u001b[0;31m`\u001b[0m\u001b[0;31m`\u001b[0m\u001b[0;34m.\u001b[0m\u001b[0;34m\u001b[0m\u001b[0;34m\u001b[0m\u001b[0m\n\u001b[1;32m     72\u001b[0m         \"\"\"\n\u001b[0;32m---> 73\u001b[0;31m         \u001b[0;32mreturn\u001b[0m \u001b[0mTrivialFuture\u001b[0m\u001b[0;34m(\u001b[0m\u001b[0mtask\u001b[0m\u001b[0;34m(\u001b[0m\u001b[0;34m*\u001b[0m\u001b[0margs\u001b[0m\u001b[0;34m)\u001b[0m\u001b[0;34m)\u001b[0m\u001b[0;34m\u001b[0m\u001b[0;34m\u001b[0m\u001b[0m\n\u001b[0m\u001b[1;32m     74\u001b[0m \u001b[0;34m\u001b[0m\u001b[0m\n\u001b[1;32m     75\u001b[0m     \u001b[0;32mdef\u001b[0m \u001b[0mshutdown\u001b[0m\u001b[0;34m(\u001b[0m\u001b[0mself\u001b[0m\u001b[0;34m,\u001b[0m \u001b[0mwait\u001b[0m\u001b[0;34m=\u001b[0m\u001b[0;32mTrue\u001b[0m\u001b[0;34m)\u001b[0m\u001b[0;34m:\u001b[0m\u001b[0;34m\u001b[0m\u001b[0;34m\u001b[0m\u001b[0m\n",
      "\u001b[0;32m/ada_mnt/ada/user/jstoffels/software/RNOG_venv/lib64/python3.6/site-packages/uproot/behaviors/TBranch.py\u001b[0m in \u001b[0;36mchunk_to_basket\u001b[0;34m(chunk, branch, basket_num)\u001b[0m\n\u001b[1;32m   3418\u001b[0m                 \u001b[0mhasbranches\u001b[0m\u001b[0;34m.\u001b[0m\u001b[0m_file\u001b[0m\u001b[0;34m,\u001b[0m\u001b[0;34m\u001b[0m\u001b[0;34m\u001b[0m\u001b[0m\n\u001b[1;32m   3419\u001b[0m                 \u001b[0mhasbranches\u001b[0m\u001b[0;34m.\u001b[0m\u001b[0m_file\u001b[0m\u001b[0;34m,\u001b[0m\u001b[0;34m\u001b[0m\u001b[0;34m\u001b[0m\u001b[0m\n\u001b[0;32m-> 3420\u001b[0;31m                 \u001b[0mbranch\u001b[0m\u001b[0;34m,\u001b[0m\u001b[0;34m\u001b[0m\u001b[0;34m\u001b[0m\u001b[0m\n\u001b[0m\u001b[1;32m   3421\u001b[0m             )\n\u001b[1;32m   3422\u001b[0m             \u001b[0moriginal_index\u001b[0m \u001b[0;34m=\u001b[0m \u001b[0mrange_original_index\u001b[0m\u001b[0;34m[\u001b[0m\u001b[0;34m(\u001b[0m\u001b[0mchunk\u001b[0m\u001b[0;34m.\u001b[0m\u001b[0mstart\u001b[0m\u001b[0;34m,\u001b[0m \u001b[0mchunk\u001b[0m\u001b[0;34m.\u001b[0m\u001b[0mstop\u001b[0m\u001b[0;34m)\u001b[0m\u001b[0;34m]\u001b[0m\u001b[0;34m\u001b[0m\u001b[0;34m\u001b[0m\u001b[0m\n",
      "\u001b[0;32m/ada_mnt/ada/user/jstoffels/software/RNOG_venv/lib64/python3.6/site-packages/uproot/model.py\u001b[0m in \u001b[0;36mread\u001b[0;34m(cls, chunk, cursor, context, file, selffile, parent, concrete)\u001b[0m\n\u001b[1;32m    835\u001b[0m             )\n\u001b[1;32m    836\u001b[0m \u001b[0;34m\u001b[0m\u001b[0m\n\u001b[0;32m--> 837\u001b[0;31m             \u001b[0mself\u001b[0m\u001b[0;34m.\u001b[0m\u001b[0mread_members\u001b[0m\u001b[0;34m(\u001b[0m\u001b[0mchunk\u001b[0m\u001b[0;34m,\u001b[0m \u001b[0mcursor\u001b[0m\u001b[0;34m,\u001b[0m \u001b[0mcontext\u001b[0m\u001b[0;34m,\u001b[0m \u001b[0mfile\u001b[0m\u001b[0;34m)\u001b[0m\u001b[0;34m\u001b[0m\u001b[0;34m\u001b[0m\u001b[0m\n\u001b[0m\u001b[1;32m    838\u001b[0m \u001b[0;34m\u001b[0m\u001b[0m\n\u001b[1;32m    839\u001b[0m             self.hook_after_read_members(\n",
      "\u001b[0;32m/ada_mnt/ada/user/jstoffels/software/RNOG_venv/lib64/python3.6/site-packages/uproot/models/TBasket.py\u001b[0m in \u001b[0;36mread_members\u001b[0;34m(self, chunk, cursor, context, file)\u001b[0m\n\u001b[1;32m    290\u001b[0m                     \u001b[0mcompressed_bytes\u001b[0m\u001b[0;34m,\u001b[0m\u001b[0;34m\u001b[0m\u001b[0;34m\u001b[0m\u001b[0m\n\u001b[1;32m    291\u001b[0m                     \u001b[0muncompressed_bytes\u001b[0m\u001b[0;34m,\u001b[0m\u001b[0;34m\u001b[0m\u001b[0;34m\u001b[0m\u001b[0m\n\u001b[0;32m--> 292\u001b[0;31m                     \u001b[0mself\u001b[0m\u001b[0;34m.\u001b[0m\u001b[0m_block_compression_info\u001b[0m\u001b[0;34m,\u001b[0m\u001b[0;34m\u001b[0m\u001b[0;34m\u001b[0m\u001b[0m\n\u001b[0m\u001b[1;32m    293\u001b[0m                 )\n\u001b[1;32m    294\u001b[0m                 \u001b[0mself\u001b[0m\u001b[0;34m.\u001b[0m\u001b[0m_block_compression_info\u001b[0m \u001b[0;34m=\u001b[0m \u001b[0mtuple\u001b[0m\u001b[0;34m(\u001b[0m\u001b[0mself\u001b[0m\u001b[0;34m.\u001b[0m\u001b[0m_block_compression_info\u001b[0m\u001b[0;34m)\u001b[0m\u001b[0;34m\u001b[0m\u001b[0;34m\u001b[0m\u001b[0m\n",
      "\u001b[0;32m/ada_mnt/ada/user/jstoffels/software/RNOG_venv/lib64/python3.6/site-packages/uproot/compression.py\u001b[0m in \u001b[0;36mdecompress\u001b[0;34m(chunk, cursor, context, compressed_bytes, uncompressed_bytes, block_info)\u001b[0m\n\u001b[1;32m    412\u001b[0m \u001b[0;34m\u001b[0m\u001b[0m\n\u001b[1;32m    413\u001b[0m         uncompressed_bytestring = decompressor.decompress(\n\u001b[0;32m--> 414\u001b[0;31m             \u001b[0mdata\u001b[0m\u001b[0;34m,\u001b[0m \u001b[0mblock_uncompressed_bytes\u001b[0m\u001b[0;34m\u001b[0m\u001b[0;34m\u001b[0m\u001b[0m\n\u001b[0m\u001b[1;32m    415\u001b[0m         )\n\u001b[1;32m    416\u001b[0m \u001b[0;34m\u001b[0m\u001b[0m\n",
      "\u001b[0;32m/ada_mnt/ada/user/jstoffels/software/RNOG_venv/lib64/python3.6/site-packages/uproot/compression.py\u001b[0m in \u001b[0;36mdecompress\u001b[0;34m(self, data, uncompressed_bytes)\u001b[0m\n\u001b[1;32m     91\u001b[0m         \u001b[0;32mimport\u001b[0m \u001b[0mzlib\u001b[0m\u001b[0;34m\u001b[0m\u001b[0;34m\u001b[0m\u001b[0m\n\u001b[1;32m     92\u001b[0m \u001b[0;34m\u001b[0m\u001b[0m\n\u001b[0;32m---> 93\u001b[0;31m         \u001b[0;32mreturn\u001b[0m \u001b[0mzlib\u001b[0m\u001b[0;34m.\u001b[0m\u001b[0mdecompress\u001b[0m\u001b[0;34m(\u001b[0m\u001b[0mdata\u001b[0m\u001b[0;34m)\u001b[0m\u001b[0;34m\u001b[0m\u001b[0;34m\u001b[0m\u001b[0m\n\u001b[0m\u001b[1;32m     94\u001b[0m \u001b[0;34m\u001b[0m\u001b[0m\n\u001b[1;32m     95\u001b[0m \u001b[0;34m\u001b[0m\u001b[0m\n",
      "\u001b[0;31mKeyboardInterrupt\u001b[0m: "
     ]
    }
   ],
   "source": [
    "#print(1e3*np.mean(np.concatenate(GroupedVRMS,axis=0)),\"mV\")\n",
    "StNr,ZeroAvg=23,True\n",
    "EventRMS=np.array([]) #Array to store V_RMS value of each event\n",
    "for Run in FilteredRuns:\n",
    "        path=Path(StNr,Run)\n",
    "        #if os.path.isfile(path+\"/combined.root\"):\n",
    "        if os.path.isfile(path+\"/waveforms.root\") and os.path.isfile(path+\"/headers.root\"):  \n",
    "            #Read in data (RadiantData is read in on a per event basis in order to save memory)\n",
    "            WaveFormFile=GetWaveformsFile(StNr,Run)\n",
    "            EventNrs=WaveFormFile['event_number'].array(library=\"np\")\n",
    "            RunIdx=np.where(FilteredRuns==Run)[0][0]\n",
    "            for EvNr in FilteredEvNrs[RunIdx]:\n",
    "                EvIdx=np.where(EventNrs==EvNr)[0][0]\n",
    "                RadiantData=WaveFormFile['radiant_data[24][2048]'].array(entry_start=EvIdx, entry_stop=EvIdx+1,library='np')\n",
    "                #Check if the relevant timestamp is not inf or nan\n",
    "                VoltageTrace=ADCtoVoltage(RadiantData[0][ChNr]) #Convert timetrace data from ADC to voltage (index on 0 since only one event is read in from WaveFormsFile)\n",
    "                if ZeroAvg==True: #Zero average the timetrace \n",
    "                    Vmean=np.mean(VoltageTrace)\n",
    "                    VoltageTrace-=Vmean\n",
    "                EventRMS=np.append(EventRMS,np.sqrt(np.mean([V**2 for V in VoltageTrace])))\n",
    "            del RadiantData, EventNrs, VoltageTrace\n",
    "print(1e3*np.mean(EventRMS),\"mV\")"
   ]
  },
  {
   "cell_type": "code",
   "execution_count": null,
   "id": "c1969818-7511-41f6-bdeb-830d738f3abf",
   "metadata": {},
   "outputs": [],
   "source": [
    "Df=1e6*(1300-105)\n",
    "R=50\n",
    "k=1.380649*1e-23\n",
    "T=(Vrms**2)/(k*R*Df)\n",
    "print()"
   ]
  },
  {
   "cell_type": "code",
   "execution_count": 25,
   "id": "6c023aa1-e690-4fcc-830f-c99caa31f2c1",
   "metadata": {},
   "outputs": [
    {
     "name": "stdout",
     "output_type": "stream",
     "text": [
      "[list([1, 2]) list([3, 4, 5, 6]) list([7, 8, 9])]\n",
      "[1 2 3 4 5 6 7 8 9]\n"
     ]
    }
   ],
   "source": [
    "TArray=np.array([[1,2],[3,4,5,6],[7,8,9]],dtype=object)\n",
    "print(TArray)\n",
    "TArray=np.concatenate(TArray,axis=0)\n",
    "print(TArray)"
   ]
  },
  {
   "cell_type": "code",
   "execution_count": 31,
   "id": "286014a5-9052-4ef0-bbd2-d73f8e598bee",
   "metadata": {},
   "outputs": [
    {
     "data": {
      "text/plain": [
       "1.0"
      ]
     },
     "execution_count": 31,
     "metadata": {},
     "output_type": "execute_result"
    }
   ],
   "source": []
  },
  {
   "cell_type": "code",
   "execution_count": null,
   "id": "a287a1b5-5b0f-4da7-aaac-b3db1799d620",
   "metadata": {},
   "outputs": [],
   "source": []
  }
 ],
 "metadata": {
  "kernelspec": {
   "display_name": "Python 3",
   "language": "python",
   "name": "python3"
  },
  "language_info": {
   "codemirror_mode": {
    "name": "ipython",
    "version": 3
   },
   "file_extension": ".py",
   "mimetype": "text/x-python",
   "name": "python",
   "nbconvert_exporter": "python",
   "pygments_lexer": "ipython3",
   "version": "3.6.8"
  }
 },
 "nbformat": 4,
 "nbformat_minor": 5
}
