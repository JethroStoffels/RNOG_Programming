{
 "cells": [
  {
   "cell_type": "markdown",
   "id": "a3f509cd",
   "metadata": {},
   "source": [
    "# Description:\n",
    "In this notebook the thermal noise temperature is determined from the timetraces that are used to make up the transit curves in order to have a better thermal noise temperature estimate for simulation."
   ]
  },
  {
   "cell_type": "markdown",
   "id": "569a87c1",
   "metadata": {},
   "source": [
    "# Import modules:"
   ]
  },
  {
   "cell_type": "code",
   "execution_count": 1,
   "id": "675f8f73",
   "metadata": {},
   "outputs": [],
   "source": [
    "from GalaxyFunctions import *"
   ]
  },
  {
   "cell_type": "markdown",
   "id": "09900d03",
   "metadata": {},
   "source": [
    "# Import data"
   ]
  },
  {
   "cell_type": "code",
   "execution_count": null,
   "id": "7406c9e0-4b5f-47b8-b408-cc30484bd9de",
   "metadata": {},
   "outputs": [],
   "source": [
    "DataSample,StNr,ChNr,DataFileId=\"HC\",23,16,3277351\n",
    "FilteredEvNrs=np.load(\"JobResults/Data/St\" + str(StNr) + \"Ch\" + str(ChNr) + \"/\" + DataSample + \"GroupedVRMS_\" + str(DataFileId) + \".npy\",allow_pickle=True)\n",
    "FilteredRuns=np.load(\"JobResults/Data/St\" + str(StNr) + \"Ch\" + str(ChNr) + \"/\" + DataSample + \"MidBins_\" + str(DataFileId) + \".npy\",allow_pickle=True)"
   ]
  }
 ],
 "metadata": {
  "kernelspec": {
   "display_name": "Python 3",
   "language": "python",
   "name": "python3"
  },
  "language_info": {
   "codemirror_mode": {
    "name": "ipython",
    "version": 3
   },
   "file_extension": ".py",
   "mimetype": "text/x-python",
   "name": "python",
   "nbconvert_exporter": "python",
   "pygments_lexer": "ipython3",
   "version": "3.6.8"
  }
 },
 "nbformat": 4,
 "nbformat_minor": 5
}
