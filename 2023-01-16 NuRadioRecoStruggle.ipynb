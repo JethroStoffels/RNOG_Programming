{
 "cells": [
  {
   "cell_type": "markdown",
   "id": "a3f509cd",
   "metadata": {},
   "source": [
    "# Description:\n",
    "In this notebook the application of frequency windows via NuRadioMC is explored and toyed around with."
   ]
  },
  {
   "cell_type": "markdown",
   "id": "569a87c1",
   "metadata": {},
   "source": [
    "# Import modules:"
   ]
  },
  {
   "cell_type": "code",
   "execution_count": 1,
   "id": "7f07ee4f",
   "metadata": {},
   "outputs": [],
   "source": [
    "import numpy as np\n",
    "import scipy as sc\n",
    "import scipy.fft as scfft\n",
    "import matplotlib.pyplot as plt\n",
    "import uproot\n",
    "import datetime as dt\n",
    "from datetime import datetime\n",
    "import csv\n",
    "#from datetime import datetime"
   ]
  },
  {
   "cell_type": "code",
   "execution_count": 2,
   "id": "675f8f73",
   "metadata": {},
   "outputs": [],
   "source": [
    "%%capture out\n",
    "%run /mnt/c/Users/Jethro/Desktop/Master\\ Thesis/Functions.ipynb\n",
    "%run /mnt/c/Users/Jethro/Desktop/RNO-G/GalaxyFunctions.ipynb\n",
    "#%matplotlib widget"
   ]
  },
  {
   "cell_type": "markdown",
   "id": "09900d03",
   "metadata": {},
   "source": [
    "# Import data"
   ]
  },
  {
   "cell_type": "code",
   "execution_count": 3,
   "id": "91b0e4c7",
   "metadata": {},
   "outputs": [],
   "source": [
    "import NuRadioReco.modules.channelGalacticNoiseSpectrum\n",
    "from NuRadioReco.detector import detector\n",
    "from NuRadioReco.utilities import units\n",
    "from NuRadioReco.framework import event,station, channel\n",
    "GNDetector = detector.Detector(json_filename = \"/mnt/c/Users/Jethro/AppData/Roaming/Microsoft/Windows/Start Menu/Programs/Python 3.8/NuRadioMC/NuRadioReco/detector/RNO_G/RNO_season_2021.json\")\n",
    "GNDetector.update(datetime(2022, 10, 1)) #date in example\n",
    "GNEvent=event.Event(532,206)\n",
    "GNStation=station.Station(22)\n",
    "GNStation.set_station_time(datetime(2022, 10, 1))\n",
    "GNChannel=channel.Channel(13)\n",
    "GNChannel.set_trace(trace=np.zeros(2048), sampling_rate=3.2 * units.GHz)\n",
    "GNStation.add_channel(GNChannel) "
   ]
  },
  {
   "cell_type": "code",
   "execution_count": 8,
   "id": "df971d88",
   "metadata": {},
   "outputs": [
    {
     "name": "stderr",
     "output_type": "stream",
     "text": [
      "WARNING:NuRadioReco.antennapattern:no hash sum of createLPDA_100MHz_InfFirn_n1.4_InfFirn.pkl available, skipping up-to-date check\n",
      "WARNING:NuRadioReco.antennapattern:loading antenna file createLPDA_100MHz_InfFirn_n1.4_InfFirn took 11 seconds\n"
     ]
    },
    {
     "data": {
      "image/png": "[encoded data removed]",
      "text/plain": [
       "<Figure size 432x288 with 1 Axes>"
      ]
     },
     "metadata": {
      "needs_background": "light"
     },
     "output_type": "display_data"
    }
   ],
   "source": [
    "channelGalacticNoiseAdder = NuRadioReco.modules.channelGalacticNoiseSpectrum.channelGalacticNoiseAdder()\n",
    "channelGalacticNoiseAdder.begin(debug=False,n_side=4,interpolation_frequencies=np.arange(10 * units.MHz, 1100 * units.MHz,100*units.MHz))\n",
    "GalacticNoiseSpectrum=channelGalacticNoiseAdder.run(GNEvent,GNStation,GNDetector,passband=[10 * units.MHz, 1000 * units.MHz])\n",
    "\n",
    "plt.figure()\n",
    "plt.plot(GNChannel.get_frequencies(),np.abs(GalacticNoiseSpectrum))\n",
    "plt.show()"
   ]
  },
  {
   "cell_type": "code",
   "execution_count": 5,
   "id": "d12d6880",
   "metadata": {},
   "outputs": [
    {
     "data": {
      "text/plain": [
       "[0.01, 1.0]"
      ]
     },
     "execution_count": 5,
     "metadata": {},
     "output_type": "execute_result"
    }
   ],
   "source": [
    "[10 * units.MHz, 1000 * units.MHz]"
   ]
  },
  {
   "cell_type": "code",
   "execution_count": 6,
   "id": "43bd5e5a",
   "metadata": {},
   "outputs": [
    {
     "data": {
      "text/plain": [
       "0.001"
      ]
     },
     "execution_count": 6,
     "metadata": {},
     "output_type": "execute_result"
    }
   ],
   "source": [
    "units.MHz"
   ]
  },
  {
   "cell_type": "code",
   "execution_count": 7,
   "id": "84d616db",
   "metadata": {},
   "outputs": [
    {
     "data": {
      "text/plain": [
       "1"
      ]
     },
     "execution_count": 7,
     "metadata": {},
     "output_type": "execute_result"
    }
   ],
   "source": [
    "units.m"
   ]
  },
  {
   "cell_type": "code",
   "execution_count": null,
   "id": "c26d31fe",
   "metadata": {},
   "outputs": [],
   "source": []
  }
 ],
 "metadata": {
  "kernelspec": {
   "display_name": "Python 3 (ipykernel)",
   "language": "python",
   "name": "python3"
  },
  "language_info": {
   "codemirror_mode": {
    "name": "ipython",
    "version": 3
   },
   "file_extension": ".py",
   "mimetype": "text/x-python",
   "name": "python",
   "nbconvert_exporter": "python",
   "pygments_lexer": "ipython3",
   "version": "3.8.10"
  }
 },
 "nbformat": 4,
 "nbformat_minor": 5
}
